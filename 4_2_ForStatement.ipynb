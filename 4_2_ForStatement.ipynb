{
  "nbformat": 4,
  "nbformat_minor": 0,
  "metadata": {
    "colab": {
      "provenance": [],
      "include_colab_link": true
    },
    "kernelspec": {
      "name": "python3",
      "display_name": "Python 3"
    },
    "language_info": {
      "name": "python"
    }
  },
  "cells": [
    {
      "cell_type": "markdown",
      "metadata": {
        "id": "view-in-github",
        "colab_type": "text"
      },
      "source": [
        "<a href=\"https://colab.research.google.com/github/zueeon/NLP_2024/blob/main/4_2_ForStatement.ipynb\" target=\"_parent\"><img src=\"https://colab.research.google.com/assets/colab-badge.svg\" alt=\"Open In Colab\"/></a>"
      ]
    },
    {
      "cell_type": "markdown",
      "source": [
        "# 🅰️ **FOR statement** 🔄 Loop  \n",
        "\"for statement\" enable you to extract each one of elements (i.e., from 1st element to the last from an object객체 or a certain range of data특정 범위의 자료).\n",
        "\n",
        "- #### <font color='red'> Example</font> from 파이썬 200제\n",
        "\n",
        "        for 구성요소 in 범위:  #list, tuple, dictionary, range\n",
        "            반복으로 실행할 코드 #e.g., 수행할 문장\n",
        "        \n",
        "          or/and  \n",
        "\n",
        "        for 아래 코드라인 변수 in 범위:\n",
        "            반복으로 실행할 코드  #e.g., 수행할 문장\n"
      ],
      "metadata": {
        "id": "4F2oj2G8OITt"
      }
    },
    {
      "cell_type": "code",
      "source": [
        "numbers = (1,2,3,4,5,6,7,8,9)\n",
        "\n",
        "print(numbers)\n",
        "\n",
        "for i in numbers:\n",
        "  print(i)"
      ],
      "metadata": {
        "id": "YIbq72I7B7DF",
        "outputId": "4405b872-3e12-46ed-acfc-6506cb4d5dd7",
        "colab": {
          "base_uri": "https://localhost:8080/"
        }
      },
      "execution_count": 2,
      "outputs": [
        {
          "output_type": "stream",
          "name": "stdout",
          "text": [
            "(1, 2, 3, 4, 5, 6, 7, 8, 9)\n",
            "1\n",
            "2\n",
            "3\n",
            "4\n",
            "5\n",
            "6\n",
            "7\n",
            "8\n",
            "9\n"
          ]
        }
      ]
    },
    {
      "cell_type": "code",
      "execution_count": null,
      "metadata": {
        "id": "j0T81ZhAm6vm",
        "outputId": "f2a970cf-228c-4493-8829-1d7c07e744d3",
        "colab": {
          "base_uri": "https://localhost:8080/"
        }
      },
      "outputs": [
        {
          "output_type": "stream",
          "name": "stdout",
          "text": [
            "1\n",
            "2\n",
            "3\n",
            "4\n",
            "5\n",
            "6\n",
            "7\n",
            "8\n",
            "9\n"
          ]
        }
      ],
      "source": [
        "numbers = (1,2,3,4,5,6,7,8,9) # numbers is assigned a tuple containing the numbers from 1 to 9, enclosed in parentheses.\n",
        "\n",
        "for i in numbers: # 'i' represents for integers. # The for loop iterates through each element (i) in the numbers tuple.\n",
        "  print(i) # Inside the loop, the print(i) statement prints each individual integer from the numbers tuple on separate lines."
      ]
    },
    {
      "cell_type": "code",
      "source": [
        "scope = [1,2,3,4,5]\n",
        "\n",
        "for i in scope:\n",
        "  print(i)"
      ],
      "metadata": {
        "id": "af4PPqGBDaDm",
        "outputId": "1f5a874f-989f-41ac-ebd2-a98f0752bc2c",
        "colab": {
          "base_uri": "https://localhost:8080/"
        }
      },
      "execution_count": 5,
      "outputs": [
        {
          "output_type": "stream",
          "name": "stdout",
          "text": [
            "1\n",
            "2\n",
            "3\n",
            "4\n",
            "5\n"
          ]
        }
      ]
    },
    {
      "cell_type": "code",
      "source": [
        "#@markdown Similar exercise for a For Statement.\n",
        "\n",
        "scope = [1,2,3,4,5]\n",
        "\n",
        "for x in scope: # Any alphabet of your choice can be anything after \"for\" work.\n",
        "  print(x)"
      ],
      "metadata": {
        "id": "yg6N6sHSElwD",
        "outputId": "d7380eef-1262-4741-fbd3-b7ef1f823641",
        "colab": {
          "base_uri": "https://localhost:8080/"
        }
      },
      "execution_count": null,
      "outputs": [
        {
          "output_type": "stream",
          "name": "stdout",
          "text": [
            "1\n",
            "2\n",
            "3\n",
            "4\n",
            "5\n"
          ]
        }
      ]
    },
    {
      "cell_type": "code",
      "source": [
        "#@markdown Similar exercise for a For Statement.\n",
        "\n",
        "scope = [1,2,3,4,5]\n",
        "\n",
        "for y in scope: # An alphabet can be anything you like after 'for'.\n",
        "  print(y)"
      ],
      "metadata": {
        "id": "NdwPi8lpFMXZ",
        "outputId": "d8551c84-e290-4f7a-b039-661fcb478746",
        "colab": {
          "base_uri": "https://localhost:8080/"
        }
      },
      "execution_count": null,
      "outputs": [
        {
          "output_type": "stream",
          "name": "stdout",
          "text": [
            "1\n",
            "2\n",
            "3\n",
            "4\n",
            "5\n"
          ]
        }
      ]
    },
    {
      "cell_type": "markdown",
      "source": [
        "##<font color = 'red'> 💡🐹🐾 List of Keywords\n",
        "- Keywords are the reserved words in Python. You cannot use a keyword as a variable name, function name or any other identifier.\n",
        "- **[List of keywords](https://www.programiz.com/python-programming/keyword-list)**"
      ],
      "metadata": {
        "id": "byuI28oANeha"
      }
    },
    {
      "cell_type": "code",
      "source": [
        "import keyword\n",
        "keyword.kwlist"
      ],
      "metadata": {
        "id": "sAgI6ZolE-nt",
        "outputId": "82dcd9fb-3343-4790-aead-933115d3e3af",
        "colab": {
          "base_uri": "https://localhost:8080/"
        }
      },
      "execution_count": 6,
      "outputs": [
        {
          "output_type": "execute_result",
          "data": {
            "text/plain": [
              "['False',\n",
              " 'None',\n",
              " 'True',\n",
              " 'and',\n",
              " 'as',\n",
              " 'assert',\n",
              " 'async',\n",
              " 'await',\n",
              " 'break',\n",
              " 'class',\n",
              " 'continue',\n",
              " 'def',\n",
              " 'del',\n",
              " 'elif',\n",
              " 'else',\n",
              " 'except',\n",
              " 'finally',\n",
              " 'for',\n",
              " 'from',\n",
              " 'global',\n",
              " 'if',\n",
              " 'import',\n",
              " 'in',\n",
              " 'is',\n",
              " 'lambda',\n",
              " 'nonlocal',\n",
              " 'not',\n",
              " 'or',\n",
              " 'pass',\n",
              " 'raise',\n",
              " 'return',\n",
              " 'try',\n",
              " 'while',\n",
              " 'with',\n",
              " 'yield']"
            ]
          },
          "metadata": {},
          "execution_count": 6
        }
      ]
    },
    {
      "cell_type": "code",
      "source": [
        "#@markdown <font color='red'>**💡🐹🐾 Be cautious about using words used the list of keywords**\n",
        "\n",
        "import keyword\n",
        "keyword.kwlist"
      ],
      "metadata": {
        "colab": {
          "base_uri": "https://localhost:8080/"
        },
        "id": "ac6R6armMGGs",
        "outputId": "99eee014-a1a8-47d6-834c-317a6255470e"
      },
      "execution_count": null,
      "outputs": [
        {
          "output_type": "execute_result",
          "data": {
            "text/plain": [
              "['False',\n",
              " 'None',\n",
              " 'True',\n",
              " 'and',\n",
              " 'as',\n",
              " 'assert',\n",
              " 'async',\n",
              " 'await',\n",
              " 'break',\n",
              " 'class',\n",
              " 'continue',\n",
              " 'def',\n",
              " 'del',\n",
              " 'elif',\n",
              " 'else',\n",
              " 'except',\n",
              " 'finally',\n",
              " 'for',\n",
              " 'from',\n",
              " 'global',\n",
              " 'if',\n",
              " 'import',\n",
              " 'in',\n",
              " 'is',\n",
              " 'lambda',\n",
              " 'nonlocal',\n",
              " 'not',\n",
              " 'or',\n",
              " 'pass',\n",
              " 'raise',\n",
              " 'return',\n",
              " 'try',\n",
              " 'while',\n",
              " 'with',\n",
              " 'yield']"
            ]
          },
          "metadata": {},
          "execution_count": 4
        }
      ]
    },
    {
      "cell_type": "code",
      "source": [
        "friends = ['수호', '윤지', '유찬']\n",
        "\n",
        "for i in friends:\n",
        "  print(i)"
      ],
      "metadata": {
        "id": "K3KDz0-EFT4d",
        "outputId": "61332fdf-4288-42ba-c5fd-dfd62457dcb1",
        "colab": {
          "base_uri": "https://localhost:8080/"
        }
      },
      "execution_count": 11,
      "outputs": [
        {
          "output_type": "stream",
          "name": "stdout",
          "text": [
            "수호\n",
            "윤지\n",
            "유찬\n"
          ]
        }
      ]
    },
    {
      "cell_type": "code",
      "source": [
        "#@markdown <font color='red'>**💀 Wrong Example**\n",
        "\n",
        "class = ['Sam', 'Emily', 'Todd']\n",
        "\n",
        "for i in class:\n",
        "  print(i)"
      ],
      "metadata": {
        "colab": {
          "base_uri": "https://localhost:8080/",
          "height": 146
        },
        "id": "dDXTjujFPJQy",
        "outputId": "877831b6-edf2-4389-9921-a109b159b501"
      },
      "execution_count": null,
      "outputs": [
        {
          "output_type": "error",
          "ename": "SyntaxError",
          "evalue": "ignored",
          "traceback": [
            "\u001b[0;36m  File \u001b[0;32m\"<ipython-input-5-f4c46a73b4cd>\"\u001b[0;36m, line \u001b[0;32m3\u001b[0m\n\u001b[0;31m    class = ['Sam', 'Emily', 'Todd']\u001b[0m\n\u001b[0m          ^\u001b[0m\n\u001b[0;31mSyntaxError\u001b[0m\u001b[0;31m:\u001b[0m invalid syntax\n"
          ]
        }
      ]
    },
    {
      "cell_type": "code",
      "source": [
        "#@markdown <font color='brown'>**💊 Fix this!**\n",
        "\n",
        "name = ['Sam', 'Emily', 'Todd']\n",
        "\n",
        "for i in name:\n",
        "  print(i)"
      ],
      "metadata": {
        "colab": {
          "base_uri": "https://localhost:8080/"
        },
        "id": "2XAf1Y1fP3tZ",
        "outputId": "4268abf8-f48f-4752-9153-b8b32f58ba1d"
      },
      "execution_count": null,
      "outputs": [
        {
          "output_type": "stream",
          "name": "stdout",
          "text": [
            "Sam\n",
            "Emily\n",
            "Todd\n"
          ]
        }
      ]
    },
    {
      "cell_type": "markdown",
      "source": [
        "##👀 Before you run the following code lines for a FOR Statement, you need to know the following.\n",
        "\n",
        "💊 Objects객체 used in FOR statements are i) string, ii) list or tuple, iii) dictionary, iv) range(). They are characterized by repeatable objects.  \n",
        "\n",
        "    The results depend on the number in (range 범위).\n",
        "    e.g., range(0) ➡️  NONE, range(1) ➡️ 0, range(2) ➡️ 0,1, etc.  \n",
        "\n"
      ],
      "metadata": {
        "id": "qkd3saTwMQxP"
      }
    },
    {
      "cell_type": "code",
      "source": [
        "for i in range(10):\n",
        "  print(i)\n"
      ],
      "metadata": {
        "id": "8D2ySrfyG2mc",
        "outputId": "d9b8c1db-1603-4304-9d7e-c7bec2e4e5be",
        "colab": {
          "base_uri": "https://localhost:8080/"
        }
      },
      "execution_count": 19,
      "outputs": [
        {
          "output_type": "stream",
          "name": "stdout",
          "text": [
            "0\n",
            "1\n",
            "2\n",
            "3\n",
            "4\n",
            "5\n",
            "6\n",
            "7\n",
            "8\n",
            "9\n"
          ]
        }
      ]
    },
    {
      "cell_type": "code",
      "source": [
        "for i in range(1):\n",
        "  print (i)\n",
        "\n",
        "type(i)"
      ],
      "metadata": {
        "id": "0EEhWrh3nNih",
        "outputId": "7581d04d-6b08-4a26-da00-285c62484ac9",
        "colab": {
          "base_uri": "https://localhost:8080/"
        }
      },
      "execution_count": null,
      "outputs": [
        {
          "output_type": "stream",
          "name": "stdout",
          "text": [
            "0\n"
          ]
        },
        {
          "output_type": "execute_result",
          "data": {
            "text/plain": [
              "int"
            ]
          },
          "metadata": {},
          "execution_count": 6
        }
      ]
    },
    {
      "cell_type": "code",
      "source": [
        "for x in range(3):\n",
        "  print(x)\n",
        "\n",
        "type(x)"
      ],
      "metadata": {
        "colab": {
          "base_uri": "https://localhost:8080/"
        },
        "id": "0GKYmOluIMA8",
        "outputId": "7e9197f3-6dff-4d6f-dad4-633bb6de6c4b"
      },
      "execution_count": null,
      "outputs": [
        {
          "output_type": "stream",
          "name": "stdout",
          "text": [
            "0\n",
            "1\n",
            "2\n"
          ]
        },
        {
          "output_type": "execute_result",
          "data": {
            "text/plain": [
              "int"
            ]
          },
          "metadata": {},
          "execution_count": 5
        }
      ]
    },
    {
      "cell_type": "code",
      "source": [
        "for y in range(10):\n",
        "  print(y)\n",
        "\n",
        "type(y)"
      ],
      "metadata": {
        "colab": {
          "base_uri": "https://localhost:8080/"
        },
        "id": "hyWzFaQLI7y_",
        "outputId": "61e62640-8590-4676-81f9-63e863e1d0dc"
      },
      "execution_count": null,
      "outputs": [
        {
          "output_type": "stream",
          "name": "stdout",
          "text": [
            "0\n",
            "1\n",
            "2\n",
            "3\n",
            "4\n",
            "5\n",
            "6\n",
            "7\n",
            "8\n",
            "9\n"
          ]
        },
        {
          "output_type": "execute_result",
          "data": {
            "text/plain": [
              "int"
            ]
          },
          "metadata": {},
          "execution_count": 9
        }
      ]
    },
    {
      "cell_type": "code",
      "source": [
        "for z in range(0):\n",
        "  print(z)\n",
        "\n",
        "#type(y) #NameError: name 'y' is not defined"
      ],
      "metadata": {
        "id": "-k9JKHlmIZEk"
      },
      "execution_count": null,
      "outputs": []
    },
    {
      "cell_type": "code",
      "source": [
        "list_fruit = [\"apple\", \"banana\", \"grape\", \"strawberry\", \"pear\", \"mango\"]\n",
        "\n",
        "for i in list_fruit:\n",
        "  print(i)"
      ],
      "metadata": {
        "id": "n-UaDN7R3aCF",
        "outputId": "59be757e-8dd9-4a02-d132-ac456378b0e9",
        "colab": {
          "base_uri": "https://localhost:8080/"
        }
      },
      "execution_count": null,
      "outputs": [
        {
          "output_type": "stream",
          "name": "stdout",
          "text": [
            "apple\n",
            "banana\n",
            "grape\n",
            "strawberry\n",
            "pear\n",
            "mango\n"
          ]
        }
      ]
    },
    {
      "cell_type": "code",
      "source": [
        "string ='abcde'\n",
        "\n",
        "for c in string:\n",
        "  print(c)"
      ],
      "metadata": {
        "id": "d9PHvLnFPXJb",
        "outputId": "5394e0c6-7bcc-4f66-d1cb-d3a60fd64823",
        "colab": {
          "base_uri": "https://localhost:8080/"
        }
      },
      "execution_count": null,
      "outputs": [
        {
          "output_type": "stream",
          "name": "stdout",
          "text": [
            "a\n",
            "b\n",
            "c\n",
            "d\n",
            "e\n"
          ]
        }
      ]
    },
    {
      "cell_type": "code",
      "source": [
        "list_int = [1,2,3,4,5]\n",
        "\n",
        "for c in list_int:\n",
        "  print(c)"
      ],
      "metadata": {
        "id": "OkVfgB8RQNTW",
        "outputId": "79c79224-5e6d-4d28-b910-84fd76f3931a",
        "colab": {
          "base_uri": "https://localhost:8080/"
        }
      },
      "execution_count": null,
      "outputs": [
        {
          "output_type": "stream",
          "name": "stdout",
          "text": [
            "1\n",
            "2\n",
            "3\n",
            "4\n",
            "5\n",
            "1\n",
            "[0]\n"
          ]
        }
      ]
    },
    {
      "cell_type": "code",
      "source": [
        "#@markdown 💊 **Compare!**\n",
        "print(list_int[0])\n",
        "print([0])"
      ],
      "metadata": {
        "id": "ghvxdKMUKyXj",
        "outputId": "f2c2e1bc-96db-4f35-e822-3e53dbee3905",
        "colab": {
          "base_uri": "https://localhost:8080/"
        }
      },
      "execution_count": null,
      "outputs": [
        {
          "output_type": "stream",
          "name": "stdout",
          "text": [
            "1\n",
            "[0]\n"
          ]
        }
      ]
    },
    {
      "cell_type": "code",
      "source": [
        "dict1 = {'a':97, 'b':98, 'c':99}\n",
        "\n",
        "for i in dict1:\n",
        "  print(i)"
      ],
      "metadata": {
        "id": "rQ3TOnzFQVLH",
        "outputId": "b89ddafe-2f62-4142-d2e6-1b420019ce33",
        "colab": {
          "base_uri": "https://localhost:8080/"
        }
      },
      "execution_count": null,
      "outputs": [
        {
          "output_type": "stream",
          "name": "stdout",
          "text": [
            "a\n",
            "b\n",
            "c\n"
          ]
        }
      ]
    },
    {
      "cell_type": "code",
      "source": [
        "dict2 = {'a':100, 'b':200, 'c':300}\n",
        "\n",
        "for i in dict2:\n",
        "  print(i)"
      ],
      "metadata": {
        "colab": {
          "base_uri": "https://localhost:8080/"
        },
        "id": "tR_8K-_UNYX2",
        "outputId": "34dd54b2-43f8-4a88-e5dd-1077f47ebfc9"
      },
      "execution_count": null,
      "outputs": [
        {
          "output_type": "stream",
          "name": "stdout",
          "text": [
            "a\n",
            "b\n",
            "c\n"
          ]
        }
      ]
    },
    {
      "cell_type": "code",
      "source": [
        "#@markdown 💊 **Compare between print(dictionary['a']) & print(['a']) to print a value, not a key.**\n",
        "\n",
        "print(dict2['a'])\n",
        "print(['a'])"
      ],
      "metadata": {
        "id": "PicaMEUyLEBw",
        "outputId": "312e9a20-d30f-45f1-d5fc-51d92006220d",
        "colab": {
          "base_uri": "https://localhost:8080/"
        }
      },
      "execution_count": null,
      "outputs": [
        {
          "output_type": "stream",
          "name": "stdout",
          "text": [
            "100\n",
            "['a']\n"
          ]
        }
      ]
    },
    {
      "cell_type": "code",
      "source": [
        "#@markdown 💣 <font color = 'red'>**Indeces are not compatible with dictionary-type data**\n",
        "\n",
        "print(dict2[0])"
      ],
      "metadata": {
        "id": "ecRnp5N7LcYX",
        "outputId": "9adf8b90-fe48-4033-b0ff-60f1b5ea1347",
        "colab": {
          "base_uri": "https://localhost:8080/",
          "height": 220
        }
      },
      "execution_count": null,
      "outputs": [
        {
          "output_type": "error",
          "ename": "KeyError",
          "evalue": "ignored",
          "traceback": [
            "\u001b[0;31m---------------------------------------------------------------------------\u001b[0m",
            "\u001b[0;31mKeyError\u001b[0m                                  Traceback (most recent call last)",
            "\u001b[0;32m<ipython-input-17-c3f626750e34>\u001b[0m in \u001b[0;36m<cell line: 3>\u001b[0;34m()\u001b[0m\n\u001b[1;32m      1\u001b[0m \u001b[0;31m#@markdown 💣 <font color = 'red'>**Indeces are not compatible with dictionary-type data**\u001b[0m\u001b[0;34m\u001b[0m\u001b[0;34m\u001b[0m\u001b[0m\n\u001b[1;32m      2\u001b[0m \u001b[0;34m\u001b[0m\u001b[0m\n\u001b[0;32m----> 3\u001b[0;31m \u001b[0mprint\u001b[0m\u001b[0;34m(\u001b[0m\u001b[0mdict2\u001b[0m\u001b[0;34m[\u001b[0m\u001b[0;36m0\u001b[0m\u001b[0;34m]\u001b[0m\u001b[0;34m)\u001b[0m\u001b[0;34m\u001b[0m\u001b[0;34m\u001b[0m\u001b[0m\n\u001b[0m",
            "\u001b[0;31mKeyError\u001b[0m: 0"
          ]
        }
      ]
    },
    {
      "cell_type": "code",
      "source": [
        "for c in range(10):\n",
        "  print(c)"
      ],
      "metadata": {
        "id": "1_rjDUvqQpDk",
        "outputId": "0e258c30-bad6-48ce-87b0-eea9e3812834",
        "colab": {
          "base_uri": "https://localhost:8080/"
        }
      },
      "execution_count": null,
      "outputs": [
        {
          "output_type": "stream",
          "name": "stdout",
          "text": [
            "0\n",
            "1\n",
            "2\n",
            "3\n",
            "4\n",
            "5\n",
            "6\n",
            "7\n",
            "8\n",
            "9\n"
          ]
        }
      ]
    },
    {
      "cell_type": "markdown",
      "source": [
        "# 🅱️  FOR ~: IF ~: CONTINUE... ELSE: BREAK\n",
        "\n",
        "    for 구성요소 혹은 아래 코드라인 변수 in 범위:\n",
        "      ...\n",
        "      continue    # 다음 반복문 수행\n",
        "      ...\n",
        "      break       # for 반복문 탈출"
      ],
      "metadata": {
        "id": "t3GvOWsWQ1bi"
      }
    },
    {
      "cell_type": "code",
      "source": [
        "scope=[1,2,3,4,5]\n",
        "\n",
        "for i in scope:\n",
        "  print(i)        #화면에 해당 정수를 출력한 후 그 수가 3 보다 작으면 그 다음 숫자를 출력하고, 3 보다 크거나 같으면 종료\n",
        "  if i<3:\n",
        "    continue      # 이 경우 continue 없이도 코드라인 작성 가능\n",
        "  else:\n",
        "    break"
      ],
      "metadata": {
        "id": "dlwhZZ_oRQaQ",
        "outputId": "df411d76-475b-4d8f-b6b3-1e509e48a8f8",
        "colab": {
          "base_uri": "https://localhost:8080/"
        }
      },
      "execution_count": null,
      "outputs": [
        {
          "output_type": "stream",
          "name": "stdout",
          "text": [
            "1\n",
            "2\n",
            "3\n"
          ]
        }
      ]
    },
    {
      "cell_type": "markdown",
      "source": [
        "#🅾️ FOR ~: ELSE ~:\n",
        "\n",
        "    for 변수 in 범위:\n",
        "      반복 실행 코드\n",
        "    else:       \n",
        "      for 구문이 모두 실행되었을 때 실행할 코드"
      ],
      "metadata": {
        "id": "znGW0EEdS7Qq"
      }
    },
    {
      "cell_type": "code",
      "source": [
        "scope = [1,2,3,4,5]\n",
        "\n",
        "for x in scope:\n",
        "  print(x)\n",
        "else:                 #반복문이 break에 의해 중단됨 없이 정상적으로 모두 실행되어야만 특정 코드 실행할 경우 FOR ~ ELSE 사용\n",
        "  print('Perfect')\n",
        "\n",
        "                      #파이썬200제에는 print (x) 다음에 break 코드라인이 있는데, 이것은 원소가 범위에 있을 때 결과를 보여주는게 1 개 밖에 안된다. 실수로 넣은 코드라인으로 보인다. 이 예제는 아래에 따로 코드라인을 작성했다.\n"
      ],
      "metadata": {
        "id": "hQ3XN0KKTXvh",
        "outputId": "91ffae41-5b80-4d00-a325-42538495bb87",
        "colab": {
          "base_uri": "https://localhost:8080/"
        }
      },
      "execution_count": null,
      "outputs": [
        {
          "output_type": "stream",
          "name": "stdout",
          "text": [
            "1\n",
            "2\n",
            "3\n",
            "4\n",
            "5\n",
            "Perfect\n"
          ]
        }
      ]
    },
    {
      "cell_type": "markdown",
      "source": [
        "## 💊 **Compare! (Do not use in class. Just let students know about it.**"
      ],
      "metadata": {
        "id": "UGZKjbMuQIct"
      }
    },
    {
      "cell_type": "code",
      "source": [
        "#@markdown 💀 IT seems an imperfect example from 파이썬200제.\n",
        "list = [1,2,3]\n",
        "for i in list:\n",
        "  print(i)\n",
        "  break ##파이썬200제에는 print (x) 다음에 break 코드라인이 있는데, 이것은 요소가 범위에 있을 때 결과를 보여주는게 1 개 밖에 안된다. 실수로 넣은 코드라인으로 보인다.\n",
        "else:\n",
        "  print('Perfect')\n"
      ],
      "metadata": {
        "id": "dHBVuZaLeigp",
        "outputId": "857a1fa6-269a-4d92-e29e-08924737f877",
        "colab": {
          "base_uri": "https://localhost:8080/"
        },
        "cellView": "form"
      },
      "execution_count": null,
      "outputs": [
        {
          "output_type": "stream",
          "name": "stdout",
          "text": [
            "1\n"
          ]
        }
      ]
    }
  ]
}